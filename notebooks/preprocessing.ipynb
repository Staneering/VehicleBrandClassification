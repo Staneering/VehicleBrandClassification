{
 "cells": [
  {
   "cell_type": "code",
   "execution_count": 6,
   "id": "47da3deb-b5a0-4e46-9345-fd8ee11ecd32",
   "metadata": {},
   "outputs": [],
   "source": [
    "import os\n",
    "import sys\n",
    "\n",
    "sys.path.append('../src')"
   ]
  },
  {
   "cell_type": "code",
   "execution_count": 7,
   "id": "3b00ae29-5903-4bd5-9f13-f57723d305d8",
   "metadata": {},
   "outputs": [],
   "source": [
    "# import tensorflow as tf"
   ]
  },
  {
   "cell_type": "code",
   "execution_count": 8,
   "id": "49d53b80-e692-440f-9f37-9dcde51c7bc6",
   "metadata": {
    "scrolled": true
   },
   "outputs": [],
   "source": [
    "from data_preprocessing import split_and_save_images"
   ]
  },
  {
   "cell_type": "code",
   "execution_count": 9,
   "id": "25a32def-39af-4700-be07-e522905d8614",
   "metadata": {},
   "outputs": [
    {
     "name": "stdout",
     "output_type": "stream",
     "text": [
      "✅ Images successfully split into train/val/test and copied to processed directory.\n"
     ]
    }
   ],
   "source": [
    "split_and_save_images()"
   ]
  },
  {
   "cell_type": "code",
   "execution_count": 10,
   "id": "9d37dbbd-dc35-4e92-b17a-b1c671df2824",
   "metadata": {},
   "outputs": [
    {
     "name": "stdout",
     "output_type": "stream",
     "text": [
      "honda_accord: 300 images\n",
      "peugeot: 300 images\n",
      "toyota_camry: 300 images\n",
      "toyota_corolla: 300 images\n"
     ]
    }
   ],
   "source": [
    "import os\n",
    "\n",
    "RAW_DIR = \"/teamspace/studios/this_studio/car_model_detection/data/raw\"\n",
    "\n",
    "class_counts = {}\n",
    "\n",
    "for class_name in os.listdir(RAW_DIR):\n",
    "    class_path = os.path.join(RAW_DIR, class_name)\n",
    "    if os.path.isdir(class_path):\n",
    "        image_files = [f for f in os.listdir(class_path) if f.lower().endswith(('.jpg', '.jpeg', '.png', '.webp'))]\n",
    "        class_counts[class_name] = len(image_files)\n",
    "\n",
    "# Print the result\n",
    "for class_name, count in class_counts.items():\n",
    "    print(f\"{class_name}: {count} images\")\n"
   ]
  },
  {
   "cell_type": "code",
   "execution_count": null,
   "id": "0ba1b231-3da0-40b9-a670-e4fcaa407580",
   "metadata": {},
   "outputs": [],
   "source": []
  },
  {
   "cell_type": "code",
   "execution_count": null,
   "id": "82498e5b",
   "metadata": {},
   "outputs": [],
   "source": []
  }
 ],
 "metadata": {
  "kernelspec": {
   "display_name": "Python 3",
   "language": "python",
   "name": "python3"
  },
  "language_info": {
   "codemirror_mode": {
    "name": "ipython",
    "version": 3
   },
   "file_extension": ".py",
   "mimetype": "text/x-python",
   "name": "python",
   "nbconvert_exporter": "python",
   "pygments_lexer": "ipython3",
   "version": "3.10.10"
  }
 },
 "nbformat": 4,
 "nbformat_minor": 5
}
