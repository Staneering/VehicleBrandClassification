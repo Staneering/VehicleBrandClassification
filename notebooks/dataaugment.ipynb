{
 "cells": [
  {
   "cell_type": "code",
   "execution_count": 7,
   "metadata": {},
   "outputs": [
    {
     "name": "stderr",
     "output_type": "stream",
     "text": [
      "Augmenting honda_accord: 100%|██████████| 300/300 [00:21<00:00, 14.13it/s]\n",
      "Augmenting peugeot: 100%|██████████| 300/300 [00:20<00:00, 14.55it/s]\n",
      "Augmenting toyota_camry: 100%|██████████| 300/300 [00:20<00:00, 14.96it/s]\n",
      "Augmenting toyota_corolla: 100%|██████████| 300/300 [00:20<00:00, 14.93it/s]"
     ]
    },
    {
     "name": "stdout",
     "output_type": "stream",
     "text": [
      "✅ Augmentation complete. Images saved in: /data/augmented/train/<class_name>\n"
     ]
    },
    {
     "name": "stderr",
     "output_type": "stream",
     "text": [
      "\n"
     ]
    }
   ],
   "source": [
    "import os\n",
    "import cv2\n",
    "import numpy as np\n",
    "from tqdm import tqdm\n",
    "from tensorflow.keras.preprocessing.image import img_to_array, load_img, save_img, ImageDataGenerator\n",
    "\n",
    "# === Paths ===\n",
    "RAW_DIR = \"/teamspace/studios/this_studio/car_model_detection/data/raw\"\n",
    "AUG_DIR = \"/teamspace/studios/this_studio/car_model_detection/data/augmented\"\n",
    "TARGET_SIZE = (224, 224)\n",
    "AUG_PER_IMAGE = 5  # Number of Keras augmentations per image\n",
    "\n",
    "# === Custom augmentation: grayscale and blur ===\n",
    "def custom_augmentations(img):\n",
    "    aug_images = []\n",
    "\n",
    "    # Grayscale\n",
    "    gray = cv2.cvtColor(img, cv2.COLOR_RGB2GRAY)\n",
    "    gray_rgb = cv2.cvtColor(gray, cv2.COLOR_GRAY2RGB)\n",
    "    aug_images.append(gray_rgb)\n",
    "\n",
    "    # Blur\n",
    "    blur = cv2.GaussianBlur(img, (5, 5), 0)\n",
    "    aug_images.append(blur)\n",
    "\n",
    "    return aug_images\n",
    "\n",
    "# === Keras ImageDataGenerator for live augmentation ===\n",
    "keras_aug = ImageDataGenerator(\n",
    "    rotation_range=25,\n",
    "    width_shift_range=0.1,\n",
    "    height_shift_range=0.1,\n",
    "    zoom_range=0.2,\n",
    "    horizontal_flip=True,\n",
    "    vertical_flip=True,\n",
    "    fill_mode='nearest'\n",
    ")\n",
    "\n",
    "# === Loop through each class ===\n",
    "for class_name in os.listdir(RAW_DIR):\n",
    "    class_dir = os.path.join(RAW_DIR, class_name)\n",
    "    save_class_dir = os.path.join(AUG_DIR, 'train', class_name)\n",
    "    os.makedirs(save_class_dir, exist_ok=True)\n",
    "\n",
    "    if os.path.isdir(class_dir):\n",
    "        for img_file in tqdm(os.listdir(class_dir), desc=f\"Augmenting {class_name}\"):\n",
    "            if img_file.lower().endswith(('.jpg', '.jpeg', '.png')):\n",
    "                # Load and resize image\n",
    "                img_path = os.path.join(class_dir, img_file)\n",
    "                img = load_img(img_path, target_size=TARGET_SIZE)\n",
    "                img_array = img_to_array(img)\n",
    "                img_expanded = np.expand_dims(img_array, axis=0)\n",
    "\n",
    "                # Save original resized image\n",
    "                save_img(os.path.join(save_class_dir, f\"{os.path.splitext(img_file)[0]}_orig.jpg\"), img_array)\n",
    "\n",
    "                # Live augmentations via Keras\n",
    "                aug_iter = keras_aug.flow(img_expanded, batch_size=1)\n",
    "                for i in range(AUG_PER_IMAGE):\n",
    "                    aug_img = next(aug_iter)[0].astype(np.uint8)\n",
    "                    save_img(os.path.join(save_class_dir, f\"{os.path.splitext(img_file)[0]}_keras_{i}.jpg\"), aug_img)\n",
    "\n",
    "                # Custom grayscale and blur\n",
    "                img_cv = cv2.cvtColor(np.array(img), cv2.COLOR_RGB2BGR)\n",
    "                custom_augs = custom_augmentations(img_cv)\n",
    "                for i, aug_img in enumerate(custom_augs):\n",
    "                    save_img(os.path.join(save_class_dir, f\"{os.path.splitext(img_file)[0]}_custom_{i}.jpg\"), aug_img)\n",
    "\n",
    "print(\"✅ Augmentation complete. Images saved in: /data/augmented/train/<class_name>\")"
   ]
  },
  {
   "cell_type": "code",
   "execution_count": null,
   "metadata": {},
   "outputs": [],
   "source": []
  }
 ],
 "metadata": {
  "language_info": {
   "name": "python"
  }
 },
 "nbformat": 4,
 "nbformat_minor": 2
}
