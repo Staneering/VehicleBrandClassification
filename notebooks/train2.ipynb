{
 "cells": [
  {
   "cell_type": "code",
   "execution_count": null,
   "metadata": {},
   "outputs": [
    {
     "name": "stderr",
     "output_type": "stream",
     "text": [
      "2025-06-17 10:57:24.386774: E external/local_xla/xla/stream_executor/cuda/cuda_fft.cc:467] Unable to register cuFFT factory: Attempting to register factory for plugin cuFFT when one has already been registered\n",
      "WARNING: All log messages before absl::InitializeLog() is called are written to STDERR\n",
      "E0000 00:00:1750157844.436459   12712 cuda_dnn.cc:8579] Unable to register cuDNN factory: Attempting to register factory for plugin cuDNN when one has already been registered\n",
      "E0000 00:00:1750157844.450998   12712 cuda_blas.cc:1407] Unable to register cuBLAS factory: Attempting to register factory for plugin cuBLAS when one has already been registered\n",
      "W0000 00:00:1750157844.555183   12712 computation_placer.cc:177] computation placer already registered. Please check linkage and avoid linking the same target more than once.\n",
      "W0000 00:00:1750157844.555299   12712 computation_placer.cc:177] computation placer already registered. Please check linkage and avoid linking the same target more than once.\n",
      "W0000 00:00:1750157844.555301   12712 computation_placer.cc:177] computation placer already registered. Please check linkage and avoid linking the same target more than once.\n",
      "W0000 00:00:1750157844.555304   12712 computation_placer.cc:177] computation placer already registered. Please check linkage and avoid linking the same target more than once.\n",
      "2025-06-17 10:57:24.573544: I tensorflow/core/platform/cpu_feature_guard.cc:210] This TensorFlow binary is optimized to use available CPU instructions in performance-critical operations.\n",
      "To enable the following instructions: AVX2 FMA, in other operations, rebuild TensorFlow with the appropriate compiler flags.\n"
     ]
    }
   ],
   "source": [
    "import os\n",
    "import numpy as np\n",
    "import tensorflow as tf\n",
    "from tensorflow.keras import layers, models, mixed_precision\n",
    "from tensorflow.keras.applications import EfficientNetB0\n",
    "from tensorflow.keras.optimizers import AdamW\n",
    "from tensorflow.keras.preprocessing.image import ImageDataGenerator\n",
    "from tensorflow.keras.utils import image_dataset_from_directory\n",
    "from sklearn.utils.class_weight import compute_class_weight\n",
    "import matplotlib.pyplot as plt\n",
    "from IPython.display import clear_output"
   ]
  },
  {
   "cell_type": "code",
   "execution_count": 2,
   "metadata": {},
   "outputs": [],
   "source": [
    "# Mixed precision (for speed)\n",
    "policy = mixed_precision.Policy('mixed_float16')\n",
    "mixed_precision.set_global_policy(policy)\n",
    "\n",
    "# === PATHS ===\n",
    "TRAIN_DIR = '/teamspace/studios/this_studio/car_model_detection/data/processed/train'\n",
    "AUGMENTED_DIR = '/teamspace/studios/this_studio/car_model_detection/data/augmented'\n",
    "VAL_DIR = '/teamspace/studios/this_studio/car_model_detection/data/processed/val'\n",
    "MODEL_PATH = '/teamspace/studios/this_studio/car_model_detection/models/efficientnetb0_car_model.keras'\n",
    "\n",
    "# === PARAMETERS ===\n",
    "IMG_SIZE = (224, 224)\n",
    "BATCH_SIZE = 32\n",
    "EPOCHS_PHASE1 = 15\n",
    "EPOCHS_PHASE2 = 50\n",
    "NUM_CLASSES = len(os.listdir(TRAIN_DIR))"
   ]
  },
  {
   "cell_type": "code",
   "execution_count": 3,
   "metadata": {},
   "outputs": [],
   "source": [
    "# === FOCAL LOSS ===\n",
    "def focal_loss(gamma=2., alpha=0.25):\n",
    "    def loss_fn(y_true, y_pred):\n",
    "        ce = tf.keras.losses.categorical_crossentropy(y_true, y_pred)\n",
    "        pt = tf.exp(-ce)\n",
    "        return alpha * tf.pow(1 - pt, gamma) * ce\n",
    "    return loss_fn\n",
    "\n",
    "# === CALLBACK TO DISPLAY AUGMENTED SAMPLES ===\n",
    "class AugPreview(tf.keras.callbacks.Callback):\n",
    "    def __init__(self, generator, samples=8):\n",
    "        self.generator = generator\n",
    "        self.samples = samples\n",
    "\n",
    "    def on_epoch_end(self, epoch, logs=None):\n",
    "        x, y = next(self.generator)\n",
    "        plt.figure(figsize=(15, 8))\n",
    "        for i in range(min(len(x), self.samples)):\n",
    "            plt.subplot(2, 4, i+1)\n",
    "            plt.imshow(x[i])\n",
    "            plt.title(f\"Class: {np.argmax(y[i])}\")\n",
    "            plt.axis('off')\n",
    "        plt.suptitle(f'Epoch {epoch+1} - Augmented Samples')\n",
    "        plt.show()\n",
    "        clear_output(wait=True)"
   ]
  },
  {
   "cell_type": "code",
   "execution_count": null,
   "metadata": {},
   "outputs": [
    {
     "name": "stdout",
     "output_type": "stream",
     "text": [
      "Found 840 images belonging to 4 classes.\n"
     ]
    }
   ],
   "source": [
    "# === LIVE AUGMENTATION ===\n",
    "train_datagen = ImageDataGenerator(\n",
    "    rescale=1./255,\n",
    "    rotation_range=30,\n",
    "    width_shift_range=0.2,\n",
    "    height_shift_range=0.2,\n",
    "    zoom_range=0.2,\n",
    "    brightness_range=[0.6, 1.4],\n",
    "    horizontal_flip=True,\n",
    "    vertical_flip=True,\n",
    "    fill_mode='nearest'\n",
    ")\n",
    "\n",
    "train_gen_live = train_datagen.flow_from_directory(\n",
    "    TRAIN_DIR,\n",
    "    target_size=IMG_SIZE,\n",
    "    batch_size=BATCH_SIZE,\n",
    "    class_mode='categorical',\n",
    "    shuffle=True,\n",
    "    seed=42\n",
    ")"
   ]
  },
  {
   "cell_type": "code",
   "execution_count": null,
   "metadata": {},
   "outputs": [
    {
     "name": "stdout",
     "output_type": "stream",
     "text": [
      "Found 3735 files belonging to 4 classes.\n"
     ]
    },
    {
     "name": "stderr",
     "output_type": "stream",
     "text": [
      "I0000 00:00:1750157847.968589   12712 gpu_device.cc:2019] Created device /job:localhost/replica:0/task:0/device:GPU:0 with 20974 MB memory:  -> device: 0, name: NVIDIA L4, pci bus id: 0000:35:00.0, compute capability: 8.9\n"
     ]
    }
   ],
   "source": [
    "# === SAVED AUGMENTED IMAGES (STATIC) ===\n",
    "augmented_ds = image_dataset_from_directory(\n",
    "    AUGMENTED_DIR,\n",
    "    image_size=IMG_SIZE,\n",
    "    batch_size=BATCH_SIZE,\n",
    "    label_mode='categorical',\n",
    "    shuffle=True,\n",
    "    seed=42\n",
    ").map(lambda x, y: (tf.cast(x, tf.float32) / 255.0, y))"
   ]
  },
  {
   "cell_type": "code",
   "execution_count": null,
   "metadata": {},
   "outputs": [
    {
     "name": "stdout",
     "output_type": "stream",
     "text": [
      "Found 240 images belonging to 4 classes.\n"
     ]
    }
   ],
   "source": [
    "# === COMBINE BOTH ===\n",
    "live_ds = tf.data.Dataset.from_generator(\n",
    "    lambda: train_gen_live,\n",
    "    output_signature=(\n",
    "        tf.TensorSpec(shape=(None, *IMG_SIZE, 3), dtype=tf.float32),\n",
    "        tf.TensorSpec(shape=(None, NUM_CLASSES), dtype=tf.float32),\n",
    "    )\n",
    ")\n",
    "\n",
    "combined_train_ds = (live_ds.concatenate(augmented_ds)\n",
    "                     .shuffle(1000)\n",
    "                     .prefetch(tf.data.AUTOTUNE))\n",
    "\n",
    "# === VALIDATION DATA ===\n",
    "val_datagen = ImageDataGenerator(rescale=1./255)\n",
    "val_gen = val_datagen.flow_from_directory(\n",
    "    VAL_DIR,\n",
    "    target_size=IMG_SIZE,\n",
    "    batch_size=BATCH_SIZE,\n",
    "    class_mode='categorical',\n",
    "    shuffle=False\n",
    ")"
   ]
  },
  {
   "cell_type": "code",
   "execution_count": 7,
   "metadata": {},
   "outputs": [],
   "source": [
    "# === CLASS WEIGHTS ===\n",
    "labels = train_gen_live.classes\n",
    "class_weights = compute_class_weight(\n",
    "    class_weight='balanced',\n",
    "    classes=np.unique(labels),\n",
    "    y=labels\n",
    ")\n",
    "class_weights_dict = dict(enumerate(class_weights))"
   ]
  },
  {
   "cell_type": "code",
   "execution_count": 8,
   "metadata": {},
   "outputs": [],
   "source": [
    "# === MODEL ===\n",
    "base_model = EfficientNetB0(\n",
    "    input_shape=IMG_SIZE + (3,),\n",
    "    include_top=False,\n",
    "    weights='imagenet',\n",
    "    pooling='avg'\n",
    ")\n",
    "\n",
    "model = models.Sequential([\n",
    "    base_model,\n",
    "    layers.BatchNormalization(),\n",
    "    layers.Dense(512, activation='swish'),\n",
    "    layers.Dropout(0.4),\n",
    "    layers.Dense(NUM_CLASSES, activation='softmax', dtype='float32')\n",
    "])"
   ]
  },
  {
   "cell_type": "code",
   "execution_count": 9,
   "metadata": {},
   "outputs": [],
   "source": [
    "# === COMPILE MODEL ===\n",
    "def lr_schedule(epoch):\n",
    "    return float(1e-3 * np.exp(-0.1 * epoch))\n",
    "\n",
    "model.compile(\n",
    "    optimizer=AdamW(learning_rate=1e-3, weight_decay=1e-5),\n",
    "    loss=focal_loss(),\n",
    "    metrics=[\n",
    "        'accuracy',\n",
    "        tf.keras.metrics.Precision(name='precision'),\n",
    "        tf.keras.metrics.Recall(name='recall'),\n",
    "        tf.keras.metrics.AUC(name='auc')\n",
    "    ]\n",
    ")"
   ]
  },
  {
   "cell_type": "code",
   "execution_count": 10,
   "metadata": {},
   "outputs": [],
   "source": [
    "# === CALLBACKS ===\n",
    "callbacks = [\n",
    "    tf.keras.callbacks.ModelCheckpoint(\n",
    "        MODEL_PATH, save_best_only=True, monitor='val_auc', mode='max'\n",
    "    ),\n",
    "    tf.keras.callbacks.EarlyStopping(\n",
    "        monitor='val_accuracy', patience=10, restore_best_weights=True\n",
    "    ),\n",
    "    tf.keras.callbacks.LearningRateScheduler(lr_schedule),\n",
    "    AugPreview(train_gen_live),\n",
    "    tf.keras.callbacks.TerminateOnNaN()\n",
    "]"
   ]
  },
  {
   "cell_type": "code",
   "execution_count": 11,
   "metadata": {},
   "outputs": [
    {
     "name": "stdout",
     "output_type": "stream",
     "text": [
      "\b\b\b\b\b\b\b\b\b\b\b\b\b\b\b\b\b\b\b\b\b\b\b\b\b\b\b\b\b\b\b\b\b\b\b\b\b\b\b\b\b\b\b\b\b\b\b\b\b\b\b\b\b\b\b\b\b\b\b\b\b\b\b\b\b\b\b\b\b\b\b\b\b\b\b\b\b\b\b\b\b\b\b\b\b\b\b\b\b\b\b\b\b\b\b\b\b\b\b\b\b\b\b\b\b\b\b\b\b\b\b\b\b\b\b\b\b\b\b\b\b\b\b\b\b\r\u001b[1m27/27\u001b[0m \u001b[32m━━━━━━━━━━━━━━━━━━━━\u001b[0m\u001b[37m\u001b[0m \u001b[1m7s\u001b[0m 274ms/step - accuracy: 0.2982 - auc: 0.5313 - loss: 0.2188 - precision: 0.3261 - recall: 0.0282 - val_accuracy: 0.2500 - val_auc: 0.5156 - val_loss: 0.1951 - val_precision: 0.0000e+00 - val_recall: 0.0000e+00 - learning_rate: 3.6788e-04\n"
     ]
    }
   ],
   "source": [
    "# === TRAINING PHASE 1: FREEZE BASE ===\n",
    "base_model.trainable = False\n",
    "print(\"\\n🔒 Phase 1: Training top layers (frozen base)\")\n",
    "history = model.fit(\n",
    "    combined_train_ds,\n",
    "    validation_data=val_gen,\n",
    "    epochs=EPOCHS_PHASE1,\n",
    "    steps_per_epoch=len(train_gen_live),\n",
    "    validation_steps=len(val_gen),\n",
    "    class_weight=class_weights_dict,\n",
    "    callbacks=callbacks\n",
    ")"
   ]
  },
  {
   "cell_type": "code",
   "execution_count": 13,
   "metadata": {},
   "outputs": [
    {
     "name": "stdout",
     "output_type": "stream",
     "text": [
      "\u001b[1m27/27\u001b[0m \u001b[32m━━━━━━━━━━━━━━━━━━━━\u001b[0m\u001b[37m\u001b[0m \u001b[1m8s\u001b[0m 316ms/step - accuracy: 0.6893 - auc: 0.9011 - loss: 0.0987 - precision: 0.7702 - recall: 0.6112 - val_accuracy: 0.6250 - val_auc: 0.8447 - val_loss: 0.1604 - val_precision: 0.6753 - val_recall: 0.5458 - learning_rate: 7.4466e-06\n",
      "\n",
      "✅ Done. Best val acc: 25.00%\n"
     ]
    }
   ],
   "source": [
    "# === TRAINING PHASE 2: FINE-TUNE ENTIRE MODEL ===\n",
    "if max(history.history['val_accuracy']) < 0.90:\n",
    "    print(\"\\n🔓 Phase 2: Fine-tuning full model\")\n",
    "    base_model.trainable = True\n",
    "    model.compile(\n",
    "        optimizer=AdamW(learning_rate=1e-5),\n",
    "        loss=focal_loss(),\n",
    "        metrics=[\n",
    "    'accuracy',\n",
    "    tf.keras.metrics.Precision(name='precision'),\n",
    "    tf.keras.metrics.Recall(name='recall'),\n",
    "    tf.keras.metrics.AUC(name='auc')\n",
    "]\n",
    "\n",
    "    )\n",
    "    model.fit(\n",
    "        combined_train_ds,\n",
    "        validation_data=val_gen,\n",
    "        epochs=EPOCHS_PHASE2,\n",
    "        initial_epoch=EPOCHS_PHASE1,\n",
    "        steps_per_epoch=len(train_gen_live),\n",
    "        validation_steps=len(val_gen),\n",
    "        class_weight=class_weights_dict,\n",
    "        callbacks=callbacks\n",
    "    )\n",
    "\n",
    "# === SAVE FINAL MODEL ===\n",
    "model.save(MODEL_PATH)\n",
    "print(f\"\\n✅ Done. Best val acc: {max(history.history['val_accuracy']):.2%}\")\n"
   ]
  },
  {
   "cell_type": "code",
   "execution_count": 17,
   "metadata": {},
   "outputs": [
    {
     "name": "stdout",
     "output_type": "stream",
     "text": [
      "Found 120 images belonging to 4 classes.\n",
      "\n",
      "🔍 Evaluating model on test set...\n"
     ]
    },
    {
     "name": "stderr",
     "output_type": "stream",
     "text": [
      "/home/zeus/miniconda3/envs/cloudspace/lib/python3.10/site-packages/keras/src/trainers/data_adapters/py_dataset_adapter.py:121: UserWarning: Your `PyDataset` class should call `super().__init__(**kwargs)` in its constructor. `**kwargs` can include `workers`, `use_multiprocessing`, `max_queue_size`. Do not pass these arguments to `fit()`, as they will be ignored.\n",
      "  self._warn_if_super_not_called()\n"
     ]
    },
    {
     "name": "stdout",
     "output_type": "stream",
     "text": [
      "\u001b[1m1/4\u001b[0m \u001b[32m━━━━━\u001b[0m\u001b[37m━━━━━━━━━━━━━━━\u001b[0m \u001b[1m18s\u001b[0m 6s/step - accuracy: 0.7188 - auc: 0.9377 - loss: 0.5934 - precision: 0.7241 - recall: 0.6562"
     ]
    },
    {
     "name": "stderr",
     "output_type": "stream",
     "text": [
      "2025-06-17 11:38:53.134445: I external/local_xla/xla/stream_executor/cuda/subprocess_compilation.cc:346] ptxas warning : Registers are spilled to local memory in function 'gemm_fusion_dot_2387', 268 bytes spill stores, 268 bytes spill loads\n",
      "\n",
      "2025-06-17 11:38:55.551574: E external/local_xla/xla/stream_executor/cuda/cuda_timer.cc:86] Delay kernel timed out: measured time has sub-optimal accuracy. There may be a missing warmup execution, please investigate in Nsight Systems.\n",
      "2025-06-17 11:38:55.659471: E external/local_xla/xla/stream_executor/cuda/cuda_timer.cc:86] Delay kernel timed out: measured time has sub-optimal accuracy. There may be a missing warmup execution, please investigate in Nsight Systems.\n",
      "2025-06-17 11:38:56.057350: E external/local_xla/xla/stream_executor/cuda/cuda_timer.cc:86] Delay kernel timed out: measured time has sub-optimal accuracy. There may be a missing warmup execution, please investigate in Nsight Systems.\n",
      "2025-06-17 11:38:56.167278: E external/local_xla/xla/stream_executor/cuda/cuda_timer.cc:86] Delay kernel timed out: measured time has sub-optimal accuracy. There may be a missing warmup execution, please investigate in Nsight Systems.\n",
      "2025-06-17 11:38:56.435981: E external/local_xla/xla/stream_executor/cuda/cuda_timer.cc:86] Delay kernel timed out: measured time has sub-optimal accuracy. There may be a missing warmup execution, please investigate in Nsight Systems.\n",
      "2025-06-17 11:38:56.545970: E external/local_xla/xla/stream_executor/cuda/cuda_timer.cc:86] Delay kernel timed out: measured time has sub-optimal accuracy. There may be a missing warmup execution, please investigate in Nsight Systems.\n"
     ]
    },
    {
     "name": "stdout",
     "output_type": "stream",
     "text": [
      "\u001b[1m4/4\u001b[0m \u001b[32m━━━━━━━━━━━━━━━━━━━━\u001b[0m\u001b[37m\u001b[0m \u001b[1m14s\u001b[0m 3s/step - accuracy: 0.6662 - auc: 0.8851 - loss: 0.8260 - precision: 0.7203 - recall: 0.5944\n",
      "loss: 0.9090\n",
      "compile_metrics: 0.6500\n",
      "\u001b[1m4/4\u001b[0m \u001b[32m━━━━━━━━━━━━━━━━━━━━\u001b[0m\u001b[37m\u001b[0m \u001b[1m9s\u001b[0m 2s/step\n",
      "\n",
      "📊 Classification Report:\n",
      "                precision    recall  f1-score   support\n",
      "\n",
      "  honda_accord       0.64      0.70      0.67        30\n",
      "       peugeot       0.75      0.60      0.67        30\n",
      "  toyota_camry       0.52      0.77      0.62        30\n",
      "toyota_corolla       0.84      0.53      0.65        30\n",
      "\n",
      "      accuracy                           0.65       120\n",
      "     macro avg       0.69      0.65      0.65       120\n",
      "  weighted avg       0.69      0.65      0.65       120\n",
      "\n"
     ]
    },
    {
     "data": {
      "image/png": "[encoded data removed]",
      "text/plain": [
       "<Figure size 640x480 with 2 Axes>"
      ]
     },
     "metadata": {},
     "output_type": "display_data"
    }
   ],
   "source": [
    "import os\n",
    "import numpy as np\n",
    "import tensorflow as tf\n",
    "import matplotlib.pyplot as plt\n",
    "from sklearn.metrics import classification_report, confusion_matrix, ConfusionMatrixDisplay\n",
    "from tensorflow.keras.preprocessing.image import ImageDataGenerator\n",
    "\n",
    "# === PATHS ===\n",
    "MODEL_PATH = '/teamspace/studios/this_studio/car_model_detection/models/efficientnetb0_car_model.keras'\n",
    "TEST_DIR = '/teamspace/studios/this_studio/car_model_detection/data/processed/test'  # Replace with actual test folder\n",
    "IMG_SIZE = (224, 224)\n",
    "BATCH_SIZE = 32\n",
    "\n",
    "# === LOAD MODEL ===\n",
    "model = tf.keras.models.load_model(MODEL_PATH, compile=False)\n",
    "\n",
    "# === COMPILE WITH METRICS (OPTIONAL) ===\n",
    "model.compile(\n",
    "    loss='categorical_crossentropy',\n",
    "    metrics=[\n",
    "        'accuracy',\n",
    "        tf.keras.metrics.Precision(name='precision'),\n",
    "        tf.keras.metrics.Recall(name='recall'),\n",
    "        tf.keras.metrics.AUC(name='auc')\n",
    "    ]\n",
    ")\n",
    "\n",
    "# === DATA GENERATOR FOR TEST SET ===\n",
    "datagen = ImageDataGenerator(rescale=1./255)\n",
    "\n",
    "test_gen = datagen.flow_from_directory(\n",
    "    TEST_DIR,\n",
    "    target_size=IMG_SIZE,\n",
    "    batch_size=BATCH_SIZE,\n",
    "    class_mode='categorical',\n",
    "    shuffle=False\n",
    ")\n",
    "\n",
    "# === EVALUATE ===\n",
    "print(\"\\n🔍 Evaluating model on test set...\")\n",
    "results = model.evaluate(test_gen)\n",
    "for name, val in zip(model.metrics_names, results):\n",
    "    print(f\"{name}: {val:.4f}\")\n",
    "\n",
    "# === PREDICT & CONFUSION MATRIX ===\n",
    "y_true = test_gen.classes\n",
    "y_pred_probs = model.predict(test_gen)\n",
    "y_pred = np.argmax(y_pred_probs, axis=1)\n",
    "\n",
    "# === LABELS ===\n",
    "class_labels = list(test_gen.class_indices.keys())\n",
    "\n",
    "# === CLASSIFICATION REPORT ===\n",
    "print(\"\\n📊 Classification Report:\")\n",
    "print(classification_report(y_true, y_pred, target_names=class_labels))\n",
    "\n",
    "# === CONFUSION MATRIX ===\n",
    "cm = confusion_matrix(y_true, y_pred)\n",
    "disp = ConfusionMatrixDisplay(confusion_matrix=cm, display_labels=class_labels)\n",
    "disp.plot(cmap='Blues', xticks_rotation=45)\n",
    "plt.title(\"Confusion Matrix\")\n",
    "plt.tight_layout()\n",
    "plt.show()\n"
   ]
  },
  {
   "cell_type": "code",
   "execution_count": null,
   "metadata": {},
   "outputs": [],
   "source": []
  }
 ],
 "metadata": {
  "language_info": {
   "name": "python"
  }
 },
 "nbformat": 4,
 "nbformat_minor": 2
}
